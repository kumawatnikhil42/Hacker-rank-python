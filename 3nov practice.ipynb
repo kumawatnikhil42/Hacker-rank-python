{
 "cells": [
  {
   "cell_type": "code",
   "execution_count": null,
   "id": "fbd88f2f-954f-4a95-a579-ec60b1b75be9",
   "metadata": {},
   "outputs": [],
   "source": [
    "                                                #Hacker rank\n",
    "#find the runner-up score \n",
    "if __name__ == '__main__':\n",
    "    n = int(input())\n",
    "    arr = (map(int, input().split()))\n",
    "    abc=set(arr)\n",
    "    abc1=sorted(abc)\n",
    "    print(abc1[-2])\n",
    "    "
   ]
  },
  {
   "cell_type": "code",
   "execution_count": 18,
   "id": "9b20b86e-2d92-43ab-a232-144cb6722d82",
   "metadata": {},
   "outputs": [
    {
     "name": "stdin",
     "output_type": "stream",
     "text": [
      " 2\n",
      " append 23\n",
      " print\n"
     ]
    },
    {
     "name": "stdout",
     "output_type": "stream",
     "text": [
      "[23]\n"
     ]
    }
   ],
   "source": [
    "#list\n",
    "if __name__ == '__main__':\n",
    "    N = int(input())\n",
    "    list=[]\n",
    "    for i in range(N):\n",
    "        cmd=input().split()\n",
    "        if(cmd[0]==\"insert\"):\n",
    "            list.insert(int(cmd[1]),int(cmd[2]))\n",
    "        elif(cmd[0]==\"print\"):\n",
    "            print(list)\n",
    "        elif(cmd[0]==\"remove\"):\n",
    "            list.remove(int(cmd[1]))\n",
    "        elif(cmd[0]==\"append\"):\n",
    "            list.append(int(cmd[1]))\n",
    "        elif(cmd[0]==\"sort\"):\n",
    "            list.sort()\n",
    "        elif(cmd[0]==\"pop\"):\n",
    "            list.pop()\n",
    "        elif(cmd[0]==\"reverse\"):\n",
    "            list.reverse()\n"
   ]
  },
  {
   "cell_type": "code",
   "execution_count": 19,
   "id": "6c7b1008-3077-49ff-b21f-8d70b6662f0f",
   "metadata": {},
   "outputs": [
    {
     "name": "stdin",
     "output_type": "stream",
     "text": [
      " 2\n",
      " 1 2\n"
     ]
    },
    {
     "name": "stdout",
     "output_type": "stream",
     "text": [
      "-3550055125485641917\n"
     ]
    }
   ],
   "source": [
    "#tuple\n",
    "if __name__ == '__main__':\n",
    "    n = int(input())\n",
    "    integer_list = map(int, input().split())\n",
    "    print(hash(tuple(integer_list)))"
   ]
  },
  {
   "cell_type": "code",
   "execution_count": 20,
   "id": "6732a2a2-1944-4b21-949f-23200071a7b3",
   "metadata": {},
   "outputs": [
    {
     "name": "stdin",
     "output_type": "stream",
     "text": [
      " Regex Software\n"
     ]
    },
    {
     "name": "stdout",
     "output_type": "stream",
     "text": [
      "rEGEX sOFTWARE\n"
     ]
    }
   ],
   "source": [
    "#swapcase\n",
    "def swap_case(s):\n",
    "    \n",
    "    return s.swapcase()\n",
    "\n",
    "if __name__ == '__main__':\n",
    "    s = input()\n",
    "    result = swap_case(s)\n",
    "    print(result)"
   ]
  },
  {
   "cell_type": "code",
   "execution_count": 22,
   "id": "f8381b00-5679-43c8-a63f-0b9620c6b28b",
   "metadata": {},
   "outputs": [
    {
     "name": "stdin",
     "output_type": "stream",
     "text": [
      " welcome user\n"
     ]
    },
    {
     "name": "stdout",
     "output_type": "stream",
     "text": [
      "welcome-user\n"
     ]
    }
   ],
   "source": [
    "#string split and join\n",
    "\n",
    "\n",
    "def split_and_join(line):\n",
    "    # write your code here\n",
    "    a=line.split(\" \")\n",
    "    a=\"-\".join(a)\n",
    "    return a\n",
    "\n",
    "if __name__ == '__main__':\n",
    "    line = input()\n",
    "    result = split_and_join(line)\n",
    "    print(result)"
   ]
  },
  {
   "cell_type": "code",
   "execution_count": 24,
   "id": "a4eb9921-e468-4f0c-9b13-2fb6c04d91c4",
   "metadata": {},
   "outputs": [
    {
     "name": "stdin",
     "output_type": "stream",
     "text": [
      " Nikhil\n",
      " Kumawat\n"
     ]
    },
    {
     "name": "stdout",
     "output_type": "stream",
     "text": [
      "Hello Nikhil Kumawat! You just delved into python.\n"
     ]
    }
   ],
   "source": [
    "#what's your name?\n",
    "def print_full_name(first, last):\n",
    "    # Write your code here\n",
    "    print(f\"Hello {first} {last}! You just delved into python.\")\n",
    "if __name__ == '__main__':\n",
    "    first_name = input()\n",
    "    last_name = input()\n",
    "    print_full_name(first_name, last_name)"
   ]
  },
  {
   "cell_type": "code",
   "execution_count": 6,
   "id": "6ce5443d-46d6-4718-8aae-794df64a56fb",
   "metadata": {},
   "outputs": [
    {
     "name": "stdin",
     "output_type": "stream",
     "text": [
      " abcedfghijk\n",
      " 5 k\n"
     ]
    },
    {
     "name": "stdout",
     "output_type": "stream",
     "text": [
      "abcedkghijk\n"
     ]
    }
   ],
   "source": [
    "#mutations\n",
    "def mutate_string(string, position, character):\n",
    "    l=list(string)\n",
    "    l[position]=character\n",
    "    string=''.join(l)\n",
    "    return string  \n",
    "\n",
    "if __name__ == '__main__':\n",
    "    s = input()\n",
    "    i, c = input().split()\n",
    "    s_new = mutate_string(s, int(i), c)\n",
    "    print(s_new)"
   ]
  },
  {
   "cell_type": "code",
   "execution_count": 5,
   "id": "68b27ac0-9422-4702-974d-2a7f9277119a",
   "metadata": {},
   "outputs": [
    {
     "name": "stdin",
     "output_type": "stream",
     "text": [
      " 3\n",
      " 67 68 69\n"
     ]
    },
    {
     "name": "stdout",
     "output_type": "stream",
     "text": [
      "68.000\n"
     ]
    }
   ],
   "source": [
    "#introduction to set\n",
    "def average(array):\n",
    "    # your code goes here\n",
    "    abc=set(array)\n",
    "    ave=sum(abc)/len(abc)\n",
    "    return \"%.3f\"%ave\n",
    "if __name__ == '__main__':\n",
    "    n = int(input())\n",
    "    arr = list(map(int, input().split()))\n",
    "    result = average(arr)\n",
    "    print(result)"
   ]
  },
  {
   "cell_type": "code",
   "execution_count": 8,
   "id": "2e11a646-15e1-4a26-9e30-004700aecdb1",
   "metadata": {},
   "outputs": [
    {
     "name": "stdin",
     "output_type": "stream",
     "text": [
      " 5\n",
      " nikhil\n",
      " ankush\n",
      " gaurav\n",
      " ankush\n",
      " nikhil\n"
     ]
    },
    {
     "name": "stdout",
     "output_type": "stream",
     "text": [
      "3\n"
     ]
    }
   ],
   "source": [
    "#set add\n",
    "N=int(input())\n",
    "abc=set()\n",
    "for i in range(0,N):\n",
    "    name=input()\n",
    "    abc.add(name)\n",
    "print(len(abc))"
   ]
  },
  {
   "cell_type": "code",
   "execution_count": null,
   "id": "5b389082-1cba-473a-95f3-5d7d3325311f",
   "metadata": {},
   "outputs": [],
   "source": []
  }
 ],
 "metadata": {
  "kernelspec": {
   "display_name": "Python 3 (ipykernel)",
   "language": "python",
   "name": "python3"
  },
  "language_info": {
   "codemirror_mode": {
    "name": "ipython",
    "version": 3
   },
   "file_extension": ".py",
   "mimetype": "text/x-python",
   "name": "python",
   "nbconvert_exporter": "python",
   "pygments_lexer": "ipython3",
   "version": "3.10.11"
  }
 },
 "nbformat": 4,
 "nbformat_minor": 5
}
