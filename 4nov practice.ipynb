{
 "cells": [
  {
   "cell_type": "code",
   "execution_count": 3,
   "id": "a6549350-0fff-4088-a9e8-459a490ccdaa",
   "metadata": {},
   "outputs": [
    {
     "name": "stdin",
     "output_type": "stream",
     "text": [
      " 4\n",
      " 1 2 3 4\n",
      " 3\n",
      " 3 4 5\n"
     ]
    },
    {
     "name": "stdout",
     "output_type": "stream",
     "text": [
      "1\n",
      "2\n",
      "5\n"
     ]
    }
   ],
   "source": [
    "                                                            #Hacker rank\n",
    "#symmetric difference\n",
    "M=int(input())\n",
    "a=set(map(int,input().split()))\n",
    "N=int(input())\n",
    "b=set(map(int,input().split()))\n",
    "a1=a-b\n",
    "a2=b-a\n",
    "a3=a1.union(a2)\n",
    "for i in sorted(a3):\n",
    "    print(i)\n",
    "    "
   ]
  },
  {
   "cell_type": "code",
   "execution_count": 2,
   "id": "5b389082-1cba-473a-95f3-5d7d3325311f",
   "metadata": {},
   "outputs": [
    {
     "name": "stdin",
     "output_type": "stream",
     "text": [
      " 9\n",
      " 1 2 3 4 5 6 7 8 9 \n",
      " 2\n",
      " pop\n",
      " pop\n"
     ]
    },
    {
     "name": "stdout",
     "output_type": "stream",
     "text": [
      "42\n"
     ]
    }
   ],
   "source": [
    "#pop,discard,remove\n",
    "n = int(input())\n",
    "s = set(map(int, input().split())) \n",
    "for i in range(int(input())): \n",
    "    s1 = input().split()\n",
    "    if (s1[0] == 'pop'):\n",
    "        s.pop()\n",
    "    elif(s1[0]==\"remove\" or s1[0]==\"discard\"):\n",
    "        s.discard(int(s1[1]))\n",
    "print(sum(s))\n"
   ]
  },
  {
   "cell_type": "code",
   "execution_count": 4,
   "id": "62f67c0e-6d51-4a18-81d7-d7f7ccd831c9",
   "metadata": {},
   "outputs": [
    {
     "name": "stdin",
     "output_type": "stream",
     "text": [
      " 5\n",
      " 1 2 3 4 5\n",
      " 4\n",
      " 3 4 5 6\n"
     ]
    },
    {
     "name": "stdout",
     "output_type": "stream",
     "text": [
      "6\n"
     ]
    }
   ],
   "source": [
    "#union\n",
    "n=int(input())\n",
    "a=set(map(int,input().split()))\n",
    "b=int(input())\n",
    "c=set(map(int,input().split()))\n",
    "result=a.union(c)\n",
    "print(len(result))"
   ]
  },
  {
   "cell_type": "code",
   "execution_count": 6,
   "id": "c1374d79-78cf-414b-bc20-46928da33b85",
   "metadata": {},
   "outputs": [
    {
     "name": "stdin",
     "output_type": "stream",
     "text": [
      " 5\n",
      " 1 2 3 4 5 \n",
      " 5\n",
      " 1 3 4 5 6\n"
     ]
    },
    {
     "name": "stdout",
     "output_type": "stream",
     "text": [
      "4\n"
     ]
    }
   ],
   "source": [
    "#intersection\n",
    "# Enter your code here. Read input from STDIN. Print output to STDOUT\n",
    "n=int(input())\n",
    "a=set(map(int,input().split()))\n",
    "b=int(input())\n",
    "c=set(map(int,input().split()))\n",
    "result=a.intersection(c)\n",
    "print(len(result))"
   ]
  },
  {
   "cell_type": "code",
   "execution_count": 7,
   "id": "acdd841c-0a47-485a-8b7e-2c9dbc27478f",
   "metadata": {},
   "outputs": [
    {
     "name": "stdin",
     "output_type": "stream",
     "text": [
      " 3\n",
      " 1 2 3\n",
      "  3\n",
      " 2 3 4\n"
     ]
    },
    {
     "name": "stdout",
     "output_type": "stream",
     "text": [
      "1\n"
     ]
    }
   ],
   "source": [
    "#difference\n",
    "n=int(input())\n",
    "a=set(map(int,input().split()))\n",
    "b=int(input())\n",
    "c=set(map(int,input().split()))\n",
    "result=a.difference(c)\n",
    "print(len(result))\n"
   ]
  },
  {
   "cell_type": "code",
   "execution_count": 8,
   "id": "1ffc780f-dceb-4d2b-b1a5-116d0fcbac3c",
   "metadata": {},
   "outputs": [
    {
     "name": "stdin",
     "output_type": "stream",
     "text": [
      " 4\n",
      " 1 2 3 4\n",
      " 4\n",
      " 3 4 5 6\n"
     ]
    },
    {
     "name": "stdout",
     "output_type": "stream",
     "text": [
      "4\n"
     ]
    }
   ],
   "source": [
    "#symmetric_difference\n",
    "n=int(input())\n",
    "a=set(map(int,input().split()))\n",
    "b=int(input())\n",
    "c=set(map(int,input().split()))\n",
    "result=a.symmetric_difference(c)\n",
    "print(len(result))\n"
   ]
  }
 ],
 "metadata": {
  "kernelspec": {
   "display_name": "Python 3 (ipykernel)",
   "language": "python",
   "name": "python3"
  },
  "language_info": {
   "codemirror_mode": {
    "name": "ipython",
    "version": 3
   },
   "file_extension": ".py",
   "mimetype": "text/x-python",
   "name": "python",
   "nbconvert_exporter": "python",
   "pygments_lexer": "ipython3",
   "version": "3.10.11"
  }
 },
 "nbformat": 4,
 "nbformat_minor": 5
}
