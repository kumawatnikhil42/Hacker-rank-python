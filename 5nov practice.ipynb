{
 "cells": [
  {
   "cell_type": "code",
   "execution_count": 2,
   "id": "a6549350-0fff-4088-a9e8-459a490ccdaa",
   "metadata": {},
   "outputs": [
    {
     "name": "stdin",
     "output_type": "stream",
     "text": [
      " 16\n",
      " 1 2 3 4 5 6 7 8 9 10 11 12 13 14 24 52\n",
      " 4\n",
      " intersection_update 10\n",
      " 2 3 5 6 8 9 1 4 7 11 \n",
      " update 2\n",
      " 55 66\n",
      " symmetric_difference_update 5\n",
      " 22 7 35 62 58\n",
      " difference_update 7\n",
      " 11 22 35 55 58 62 66\n"
     ]
    },
    {
     "name": "stdout",
     "output_type": "stream",
     "text": [
      "38\n"
     ]
    }
   ],
   "source": [
    "                                                            #Hacker rank\n",
    "#mutations\n",
    "n= int(input())\n",
    "a= set(map(int, input().split()))\n",
    "N= int(input())\n",
    "for i in range(N):\n",
    "    cmd = input().split()\n",
    "    opt = cmd[0]\n",
    "    b= set(map(int, input().split()))\n",
    "    if opt == \"difference_update\":\n",
    "        a.difference_update(b)\n",
    "    elif opt == \"intersection_update\":\n",
    "        a.intersection_update(b)\n",
    "    elif opt == \"symmetric_difference_update\":\n",
    "        a.symmetric_difference_update(b)\n",
    "    elif opt == \"update\":\n",
    "        a.update(b)\n",
    "print(sum(a))\n",
    "    \n",
    "    "
   ]
  },
  {
   "cell_type": "code",
   "execution_count": 9,
   "id": "5f83a62a-1394-4fc1-a03b-d0d6b34a999f",
   "metadata": {
    "scrolled": true
   },
   "outputs": [
    {
     "name": "stdin",
     "output_type": "stream",
     "text": [
      " 2\n",
      " 3\n",
      " 1 2 3\n",
      " 4\n",
      " 1 3 5 4\n"
     ]
    },
    {
     "name": "stdout",
     "output_type": "stream",
     "text": [
      "False\n"
     ]
    },
    {
     "name": "stdin",
     "output_type": "stream",
     "text": [
      " 1\n",
      " 2\n",
      " 5\n",
      " 3 6 5 4 1\n"
     ]
    },
    {
     "name": "stdout",
     "output_type": "stream",
     "text": [
      "False\n"
     ]
    }
   ],
   "source": [
    "#check subset\n",
    "n=int(input())\n",
    "for i in range(0,n):\n",
    "    abc=int(input())\n",
    "    a=set(map(int,input().split()))\n",
    "    xyz=int(input())\n",
    "    b=set(map(int,input().split()))\n",
    "    print(a.issubset(b))"
   ]
  },
  {
   "cell_type": "code",
   "execution_count": 10,
   "id": "fdf583b7-5d70-4a72-ae0e-e30c5df05c36",
   "metadata": {},
   "outputs": [
    {
     "name": "stdin",
     "output_type": "stream",
     "text": [
      " 1 2 3 4 5 6 7 8 9 10 11 12 23 45 84 78\n",
      " 2\n",
      " 1 2 3 4 5\n",
      " 100 11 12\n"
     ]
    },
    {
     "name": "stdout",
     "output_type": "stream",
     "text": [
      "False\n"
     ]
    }
   ],
   "source": [
    "#check strict superset\n",
    "a=set(map(int,input().split()))\n",
    "n=int(input())\n",
    "abc=True\n",
    "for i in range(0,n):\n",
    "    b=set(map(int,input().split()))\n",
    "    if(not a.issuperset(b)):\n",
    "        abc=False\n",
    "        \n",
    "print(abc)"
   ]
  },
  {
   "cell_type": "code",
   "execution_count": null,
   "id": "a4147dc6-8ad9-4cae-8bcf-b32aa32a1f61",
   "metadata": {},
   "outputs": [],
   "source": []
  }
 ],
 "metadata": {
  "kernelspec": {
   "display_name": "Python 3 (ipykernel)",
   "language": "python",
   "name": "python3"
  },
  "language_info": {
   "codemirror_mode": {
    "name": "ipython",
    "version": 3
   },
   "file_extension": ".py",
   "mimetype": "text/x-python",
   "name": "python",
   "nbconvert_exporter": "python",
   "pygments_lexer": "ipython3",
   "version": "3.10.11"
  }
 },
 "nbformat": 4,
 "nbformat_minor": 5
}
